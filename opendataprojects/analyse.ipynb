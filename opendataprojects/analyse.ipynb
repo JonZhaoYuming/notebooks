{
 "cells": [
  {
   "cell_type": "markdown",
   "metadata": {
    "collapsed": true
   },
   "source": [
    "# Analysing data\n",
    "\n",
    "- We have data loaded into Python data structures\n",
    "- What can we learn from the data?\n",
    "- How do we learn from the data?"
   ]
  },
  {
   "cell_type": "markdown",
   "metadata": {
    "collapsed": true
   },
   "source": [
    "## Tools\n",
    "\n",
    "- [Python's operator module](https://docs.python.org/3/library/operator.html)\n",
    "- [Python's max builtin](https://docs.python.org/3/library/functions.html#max)\n",
    "- [Python string formatting](https://docs.python.org/3.1/library/string.html#format-string-syntax)"
   ]
  },
  {
   "cell_type": "markdown",
   "metadata": {},
   "source": [
    "## Examples\n",
    "\n",
    "We'll walk through a very simple example, building on concepts from our previous step:\n",
    "\n",
    "- request a CSV file, and load the data we extract\n",
    "- clean the data a little for easier usage\n",
    "- run a number of summary queries over the data"
   ]
  },
  {
   "cell_type": "code",
   "execution_count": 44,
   "metadata": {
    "collapsed": true
   },
   "outputs": [],
   "source": [
    "# just for presentation in notebooks\n",
    "from pprint import pprint as print"
   ]
  },
  {
   "cell_type": "markdown",
   "metadata": {},
   "source": [
    "## Request\n",
    "\n",
    "Identify and download a dataset of interest."
   ]
  },
  {
   "cell_type": "code",
   "execution_count": 45,
   "metadata": {
    "collapsed": true
   },
   "outputs": [],
   "source": [
    "import operator\n",
    "import requests\n",
    "import csv\n",
    "\n",
    "\n",
    "csv_source = 'http://data.defra.gov.uk/env/strategic_noise_mapping/r2_strategic_noise_mapping.csv'\n",
    "\n",
    "csv_delimiter = ','\n",
    "\n",
    "response = requests.get(csv_source)\n",
    "\n",
    "raw = response.text.splitlines()\n",
    "\n",
    "reader = csv.DictReader(raw, delimiter=csv_delimiter)"
   ]
  },
  {
   "cell_type": "markdown",
   "metadata": {},
   "source": [
    "## Extract and clean\n",
    "\n",
    "As we read the data into a Python data structure, we'll also do some basic cleaning."
   ]
  },
  {
   "cell_type": "code",
   "execution_count": 46,
   "metadata": {
    "collapsed": false
   },
   "outputs": [],
   "source": [
    "def clean(row):\n",
    "    \"\"\"Clean rows of data.\"\"\"\n",
    "    \n",
    "    # remove a noisy row from our data - it is not about a specific agglomeration\n",
    "    if row['Location/Agglomeration'] == 'Major sources (outside agglomerations)':\n",
    "        row = None\n",
    "    else:\n",
    "        for key, value in row.items():\n",
    "            # some of the population counts show 'n/a'.\n",
    "            if value == 'n/a':\n",
    "                row[key] = 0\n",
    "            # when a value can be coerced to an integer, then do it.\n",
    "            try:\n",
    "                row[key] = int(value)\n",
    "            except ValueError as e:\n",
    "                pass\n",
    "    return row"
   ]
  },
  {
   "cell_type": "code",
   "execution_count": 47,
   "metadata": {
    "collapsed": true
   },
   "outputs": [],
   "source": [
    "data = []\n",
    "\n",
    "for row in reader:\n",
    "    row = clean(row)\n",
    "    if row:\n",
    "        data.append(row)"
   ]
  },
  {
   "cell_type": "markdown",
   "metadata": {},
   "source": [
    "## A sample"
   ]
  },
  {
   "cell_type": "code",
   "execution_count": 48,
   "metadata": {
    "collapsed": false
   },
   "outputs": [
    {
     "name": "stdout",
     "output_type": "stream",
     "text": [
      "{'AgglomerationPopulation': 895000,\n",
      " 'Industry_Pop_Lden>=55dB': 1400,\n",
      " 'Industry_Pop_Lden>=60dB': 600,\n",
      " 'Industry_Pop_Lden>=65dB': 100,\n",
      " 'Industry_Pop_Lden>=70dB': 0,\n",
      " 'Industry_Pop_Lden>=75dB': 0,\n",
      " 'Industry_Pop_Lnight>=50dB': 1100,\n",
      " 'Industry_Pop_Lnight>=55dB': 400,\n",
      " 'Industry_Pop_Lnight>=60dB': 100,\n",
      " 'Industry_Pop_Lnight>=65dB': 0,\n",
      " 'Industry_Pop_Lnight>=70dB': 0,\n",
      " 'Location/Agglomeration': 'Tyneside',\n",
      " 'Railways_Pop_Lden>=55dB': 14200,\n",
      " 'Railways_Pop_Lden>=60dB': 8100,\n",
      " 'Railways_Pop_Lden>=65dB': 3900,\n",
      " 'Railways_Pop_Lden>=70dB': 1700,\n",
      " 'Railways_Pop_Lden>=75dB': 200,\n",
      " 'Railways_Pop_Lnight>=50dB': 10400,\n",
      " 'Railways_Pop_Lnight>=55dB': 6000,\n",
      " 'Railways_Pop_Lnight>=60dB': 2500,\n",
      " 'Railways_Pop_Lnight>=65dB': 1100,\n",
      " 'Railways_Pop_Lnight>=70dB': 0,\n",
      " 'Road_Pop_Lden>=55dB': 166400,\n",
      " 'Road_Pop_Lden>=60dB': 79200,\n",
      " 'Road_Pop_Lden>=65dB': 46100,\n",
      " 'Road_Pop_Lden>=70dB': 18200,\n",
      " 'Road_Pop_Lden>=75dB': 1300,\n",
      " 'Road_Pop_Lnight>=50dB': 94800,\n",
      " 'Road_Pop_Lnight>=55dB': 51600,\n",
      " 'Road_Pop_Lnight>=60dB': 21000,\n",
      " 'Road_Pop_Lnight>=65dB': 2700,\n",
      " 'Road_Pop_Lnight>=70dB': 200}\n"
     ]
    }
   ],
   "source": [
    "print(data[0])"
   ]
  },
  {
   "cell_type": "markdown",
   "metadata": {},
   "source": [
    "##  Queries\n",
    "\n",
    "What high-level information, does this dataset hold?"
   ]
  },
  {
   "cell_type": "code",
   "execution_count": 49,
   "metadata": {
    "collapsed": false
   },
   "outputs": [
    {
     "name": "stdout",
     "output_type": "stream",
     "text": [
      "{'AgglomerationPopulation': 9300000,\n",
      " 'Industry_Pop_Lden>=55dB': 23600,\n",
      " 'Industry_Pop_Lden>=60dB': 13000,\n",
      " 'Industry_Pop_Lden>=65dB': 7500,\n",
      " 'Industry_Pop_Lden>=70dB': 4600,\n",
      " 'Industry_Pop_Lden>=75dB': 3000,\n",
      " 'Industry_Pop_Lnight>=50dB': 20500,\n",
      " 'Industry_Pop_Lnight>=55dB': 11300,\n",
      " 'Industry_Pop_Lnight>=60dB': 6700,\n",
      " 'Industry_Pop_Lnight>=65dB': 4000,\n",
      " 'Industry_Pop_Lnight>=70dB': 2700,\n",
      " 'Location/Agglomeration': 'Greater London Urban Area',\n",
      " 'Railways_Pop_Lden>=55dB': 525200,\n",
      " 'Railways_Pop_Lden>=60dB': 308500,\n",
      " 'Railways_Pop_Lden>=65dB': 158100,\n",
      " 'Railways_Pop_Lden>=70dB': 59800,\n",
      " 'Railways_Pop_Lden>=75dB': 15200,\n",
      " 'Railways_Pop_Lnight>=50dB': 388700,\n",
      " 'Railways_Pop_Lnight>=55dB': 214200,\n",
      " 'Railways_Pop_Lnight>=60dB': 95100,\n",
      " 'Railways_Pop_Lnight>=65dB': 29700,\n",
      " 'Railways_Pop_Lnight>=70dB': 6400,\n",
      " 'Road_Pop_Lden>=55dB': 2387200,\n",
      " 'Road_Pop_Lden>=60dB': 1426100,\n",
      " 'Road_Pop_Lden>=65dB': 1027200,\n",
      " 'Road_Pop_Lden>=70dB': 597800,\n",
      " 'Road_Pop_Lden>=75dB': 99200,\n",
      " 'Road_Pop_Lnight>=50dB': 1665400,\n",
      " 'Road_Pop_Lnight>=55dB': 1106500,\n",
      " 'Road_Pop_Lnight>=60dB': 649400,\n",
      " 'Road_Pop_Lnight>=65dB': 114500,\n",
      " 'Road_Pop_Lnight>=70dB': 900}\n",
      "{'AgglomerationPopulation': 105000,\n",
      " 'Industry_Pop_Lden>=55dB': 200,\n",
      " 'Industry_Pop_Lden>=60dB': 100,\n",
      " 'Industry_Pop_Lden>=65dB': 0,\n",
      " 'Industry_Pop_Lden>=70dB': 0,\n",
      " 'Industry_Pop_Lden>=75dB': 0,\n",
      " 'Industry_Pop_Lnight>=50dB': 200,\n",
      " 'Industry_Pop_Lnight>=55dB': 100,\n",
      " 'Industry_Pop_Lnight>=60dB': 0,\n",
      " 'Industry_Pop_Lnight>=65dB': 0,\n",
      " 'Industry_Pop_Lnight>=70dB': 0,\n",
      " 'Location/Agglomeration': 'Chesterfield/Staveley',\n",
      " 'Railways_Pop_Lden>=55dB': 2100,\n",
      " 'Railways_Pop_Lden>=60dB': 1100,\n",
      " 'Railways_Pop_Lden>=65dB': 500,\n",
      " 'Railways_Pop_Lden>=70dB': 200,\n",
      " 'Railways_Pop_Lden>=75dB': 100,\n",
      " 'Railways_Pop_Lnight>=50dB': 1700,\n",
      " 'Railways_Pop_Lnight>=55dB': 900,\n",
      " 'Railways_Pop_Lnight>=60dB': 400,\n",
      " 'Railways_Pop_Lnight>=65dB': 100,\n",
      " 'Railways_Pop_Lnight>=70dB': 0,\n",
      " 'Road_Pop_Lden>=55dB': 10500,\n",
      " 'Road_Pop_Lden>=60dB': 6300,\n",
      " 'Road_Pop_Lden>=65dB': 4200,\n",
      " 'Road_Pop_Lden>=70dB': 1600,\n",
      " 'Road_Pop_Lden>=75dB': 100,\n",
      " 'Road_Pop_Lnight>=50dB': 6900,\n",
      " 'Road_Pop_Lnight>=55dB': 4500,\n",
      " 'Road_Pop_Lnight>=60dB': 1800,\n",
      " 'Road_Pop_Lnight>=65dB': 100,\n",
      " 'Road_Pop_Lnight>=70dB': 0}\n"
     ]
    }
   ],
   "source": [
    "# high-level data points\n",
    "columns = len(data[0].keys())\n",
    "\n",
    "rows = len(data)\n",
    "\n",
    "most_populated = max(data, key=operator.itemgetter('AgglomerationPopulation'))\n",
    "\n",
    "least_populated = min(data, key=operator.itemgetter('AgglomerationPopulation'))\n",
    "\n",
    "print(most_populated)\n",
    "\n",
    "print(least_populated)"
   ]
  },
  {
   "cell_type": "code",
   "execution_count": 50,
   "metadata": {
    "collapsed": false
   },
   "outputs": [
    {
     "name": "stdout",
     "output_type": "stream",
     "text": [
      "('The data holds 32 columns of data for 65 different \"Agglomerations\".  The '\n",
      " 'most populated \"Agglomeration\" is \"Greater London Urban Area\" with a '\n",
      " 'population of 9300000. Out of this population, 117400 (1%) people are '\n",
      " 'exposed to very high levels of noise pollution from industry, railway and '\n",
      " 'road sources. The least populated \"Agglomeration\" is \"Chesterfield/Staveley\" '\n",
      " 'with a population of 105000. Out of this population, 200 (0%) people are '\n",
      " 'exposed to very high levels of noise pollution from industry, railway and '\n",
      " 'road sources.')\n"
     ]
    }
   ],
   "source": [
    "most_populated_high_exposure_count = sum([\n",
    "    most_populated['Industry_Pop_Lden>=75dB'], \n",
    "    most_populated['Railways_Pop_Lden>=75dB'], \n",
    "    most_populated['Road_Pop_Lden>=75dB']\n",
    "])\n",
    "\n",
    "most_populated_high_exposure_percent = '{0:.0f}%'.format(\n",
    "    (most_populated_high_exposure_count / most_populated['AgglomerationPopulation']) * 100\n",
    ")\n",
    "\n",
    "least_populated_high_exposure_count = sum([\n",
    "    least_populated['Industry_Pop_Lden>=75dB'], \n",
    "    least_populated['Railways_Pop_Lden>=75dB'], \n",
    "    least_populated['Road_Pop_Lden>=75dB']\n",
    "])\n",
    "\n",
    "least_populated_high_exposure_percent = '{0:.0f}%'.format(\n",
    "    (least_populated_high_exposure_count / least_populated['AgglomerationPopulation']) * 100\n",
    ")\n",
    "\n",
    "# A factual statement, according to this data source.\n",
    "statement = \"\"\"\\\n",
    "The data holds {columns} columns of data for {rows} different \"Agglomerations\". \\\n",
    " \\\n",
    "The most populated \"Agglomeration\" is \"{most_populated_place_name}\" with a population of {most_populated_pop_count}. \\\n",
    "Out of this population, {most_populated_high_exposure_count} ({most_populated_high_exposure_percent}) \\\n",
    "people are exposed to very high levels of noise pollution from industry, railway and road sources.\\\n",
    " \\\n",
    "The least populated \"Agglomeration\" is \"{least_populated_place_name}\" with a population of {least_populated_pop_count}. \\\n",
    "Out of this population, {least_populated_high_exposure_count} ({least_populated_high_exposure_percent}) \\\n",
    "people are exposed to very high levels of noise pollution from industry, railway and road sources.\\\n",
    "\"\"\".format(\n",
    "    columns=columns, \n",
    "    rows=rows, \n",
    "    most_populated_place_name=most_populated['Location/Agglomeration'], \n",
    "    most_populated_pop_count=most_populated['AgglomerationPopulation'],\n",
    "    most_populated_high_exposure_count=most_populated_high_exposure_count,\n",
    "    most_populated_high_exposure_percent=most_populated_high_exposure_percent,\n",
    "    least_populated_place_name=least_populated['Location/Agglomeration'], \n",
    "    least_populated_pop_count=least_populated['AgglomerationPopulation'], \n",
    "    least_populated_high_exposure_count=least_populated_high_exposure_count,\n",
    "    least_populated_high_exposure_percent=least_populated_high_exposure_percent\n",
    ")\n",
    "\n",
    "print(statement)"
   ]
  }
 ],
 "metadata": {
  "kernelspec": {
   "display_name": "Python 3",
   "language": "python",
   "name": "python3"
  },
  "language_info": {
   "codemirror_mode": {
    "name": "ipython",
    "version": 3
   },
   "file_extension": ".py",
   "mimetype": "text/x-python",
   "name": "python",
   "nbconvert_exporter": "python",
   "pygments_lexer": "ipython3",
   "version": "3.5.2"
  }
 },
 "nbformat": 4,
 "nbformat_minor": 0
}
