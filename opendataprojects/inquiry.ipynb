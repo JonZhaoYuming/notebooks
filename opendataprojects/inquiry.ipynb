{
 "cells": [
  {
   "cell_type": "markdown",
   "metadata": {},
   "source": [
    "# How many people in the UK are exposed to unacceptable levels of noise?\n",
    "\n",
    "We looked at a [simple dataset on noise pollution](https://github.com/pwalsh/notebooks/blob/master/opendataprojects/analyse.ipynb) earlier, and here we'll look at it in a bit more detail.\n",
    "\n",
    "The goal is to build a narrative with and around the data."
   ]
  },
  {
   "cell_type": "markdown",
   "metadata": {},
   "source": [
    "## Context\n",
    "\n",
    "The Environment Protection Act of 1997 sets out [seven zones for the purpose of defining acceptable noise levels](http://www.hiil.org/bestpractices/How%20to%20determine%20acceptable%20levels%20of%20noise%20nuisance%20(UK)). \n",
    "\n",
    "Prolonged exposure to noise pollution can have a [negative effect on health](https://en.wikipedia.org/wiki/Health_effects_from_noise).\n",
    "\n",
    "How are noise levels measured? The \"[Environmental Noise Directive](http://ec.europa.eu/environment/noise/directive_en.htm)\" of the EU requires member states to publish information on noise levels for:\n",
    "\n",
    "- agglomerations with more than 100,000 inhabitants\n",
    "- major roads (more than 3 million vehicles a year)\n",
    "- major railways (more than 30.000 trains a year)\n",
    "- major airports (more than 50.000 movements a year, including small aircrafts and helicopters)\n",
    "\n",
    "There are [two ways](http://www.noisemap.ltd.uk/home/eu%20noise%20directive.html) of measuring noise levels:\n",
    "\n",
    "1. Lden is the equivalent continuous noise level over a whole 24-hour period, but with noise in the evening (19:00 to 23:00) increased by 5 dB(A) and noise at night (23:00 to 07:00) increased by 10 dB(A) to reflect the greater noise-sensitivity of people at those times.\n",
    "2. Lnight is the equivalent continuous noise level over the night-time period (23:00 to 07:00). Lnight does not contain any night-time noise weighting.\n",
    "\n",
    "The file of data we sourced has been published in compliance with this directive."
   ]
  },
  {
   "cell_type": "code",
   "execution_count": 67,
   "metadata": {
    "collapsed": true
   },
   "outputs": [],
   "source": [
    "# just for presentation in notebooks\n",
    "from pprint import pprint as print"
   ]
  },
  {
   "cell_type": "markdown",
   "metadata": {},
   "source": [
    "# Request\n",
    "\n",
    "As previously, we want to get our data into a Python data structure we can work with."
   ]
  },
  {
   "cell_type": "code",
   "execution_count": 68,
   "metadata": {
    "collapsed": false
   },
   "outputs": [
    {
     "name": "stderr",
     "output_type": "stream",
     "text": [
      "INFO:requests.packages.urllib3.connectionpool:Starting new HTTP connection (1): data.defra.gov.uk\n"
     ]
    }
   ],
   "source": [
    "import operator\n",
    "import requests\n",
    "import csv\n",
    "from bokeh.charts import Bar, show, output_notebook\n",
    "\n",
    "\n",
    "def clean(row):\n",
    "    \"\"\"Clean rows of data.\"\"\"\n",
    "    \n",
    "    # remove a noisy row from our data - it is not about a specific agglomeration\n",
    "    if row['Location/Agglomeration'] == 'Major sources (outside agglomerations)':\n",
    "        row = None\n",
    "    else:\n",
    "        for key, value in row.items():\n",
    "            # some of the population counts show 'n/a'.\n",
    "            if value == 'n/a':\n",
    "                row[key] = 0\n",
    "            # when a value can be coerced to an integer, then do it.\n",
    "            try:\n",
    "                row[key] = int(value)\n",
    "            except ValueError as e:\n",
    "                pass\n",
    "    return row\n",
    "\n",
    "\n",
    "csv_source = 'http://data.defra.gov.uk/env/strategic_noise_mapping/r2_strategic_noise_mapping.csv'\n",
    "\n",
    "csv_delimiter = ','\n",
    "\n",
    "response = requests.get(csv_source)\n",
    "\n",
    "raw = response.text.splitlines()\n",
    "\n",
    "reader = csv.DictReader(raw, delimiter=csv_delimiter)\n",
    "\n",
    "data = []\n",
    "\n",
    "for row in reader:\n",
    "    row = clean(row)\n",
    "    if row:\n",
    "        data.append(row)"
   ]
  },
  {
   "cell_type": "markdown",
   "metadata": {},
   "source": [
    "## Sample"
   ]
  },
  {
   "cell_type": "code",
   "execution_count": 69,
   "metadata": {
    "collapsed": false
   },
   "outputs": [
    {
     "name": "stdout",
     "output_type": "stream",
     "text": [
      "{'AgglomerationPopulation': 895000,\n",
      " 'Industry_Pop_Lden>=55dB': 1400,\n",
      " 'Industry_Pop_Lden>=60dB': 600,\n",
      " 'Industry_Pop_Lden>=65dB': 100,\n",
      " 'Industry_Pop_Lden>=70dB': 0,\n",
      " 'Industry_Pop_Lden>=75dB': 0,\n",
      " 'Industry_Pop_Lnight>=50dB': 1100,\n",
      " 'Industry_Pop_Lnight>=55dB': 400,\n",
      " 'Industry_Pop_Lnight>=60dB': 100,\n",
      " 'Industry_Pop_Lnight>=65dB': 0,\n",
      " 'Industry_Pop_Lnight>=70dB': 0,\n",
      " 'Location/Agglomeration': 'Tyneside',\n",
      " 'Railways_Pop_Lden>=55dB': 14200,\n",
      " 'Railways_Pop_Lden>=60dB': 8100,\n",
      " 'Railways_Pop_Lden>=65dB': 3900,\n",
      " 'Railways_Pop_Lden>=70dB': 1700,\n",
      " 'Railways_Pop_Lden>=75dB': 200,\n",
      " 'Railways_Pop_Lnight>=50dB': 10400,\n",
      " 'Railways_Pop_Lnight>=55dB': 6000,\n",
      " 'Railways_Pop_Lnight>=60dB': 2500,\n",
      " 'Railways_Pop_Lnight>=65dB': 1100,\n",
      " 'Railways_Pop_Lnight>=70dB': 0,\n",
      " 'Road_Pop_Lden>=55dB': 166400,\n",
      " 'Road_Pop_Lden>=60dB': 79200,\n",
      " 'Road_Pop_Lden>=65dB': 46100,\n",
      " 'Road_Pop_Lden>=70dB': 18200,\n",
      " 'Road_Pop_Lden>=75dB': 1300,\n",
      " 'Road_Pop_Lnight>=50dB': 94800,\n",
      " 'Road_Pop_Lnight>=55dB': 51600,\n",
      " 'Road_Pop_Lnight>=60dB': 21000,\n",
      " 'Road_Pop_Lnight>=65dB': 2700,\n",
      " 'Road_Pop_Lnight>=70dB': 200}\n"
     ]
    }
   ],
   "source": [
    "print(data[0])"
   ]
  },
  {
   "cell_type": "markdown",
   "metadata": {},
   "source": [
    "## What is our data about?\n",
    "\n",
    "Looking at a sample, we can see that the data is fairly comprehensive in terms of exposing data points for each of Lden and Lnight, and that there is data on a range of noise levels for each of railways, roads and industry (no airports!).\n",
    "\n",
    "In addition to providing us with a count for people exposed to noise pollution in this matrix of conditions, the data provides a total population count for each agglomeration, which allows us to make some useful calculations without sourcing additional data."
   ]
  },
  {
   "cell_type": "markdown",
   "metadata": {},
   "source": [
    "# Analyse\n",
    "\n",
    "As previously, we'll extract some information about the most populated and least populated areas."
   ]
  },
  {
   "cell_type": "code",
   "execution_count": 70,
   "metadata": {
    "collapsed": false
   },
   "outputs": [
    {
     "name": "stdout",
     "output_type": "stream",
     "text": [
      "('The data holds 32 columns of data for 65 different \"Agglomerations\". The '\n",
      " 'most populated \"Agglomeration\" is \"Greater London Urban Area\" with a '\n",
      " 'population of 9300000. Out of this population, 117400 (1.26%) people are '\n",
      " 'exposed to very high levels of noise pollution from industry, railway and '\n",
      " 'road sources.')\n"
     ]
    }
   ],
   "source": [
    "# high-level data points\n",
    "columns = len(data[0].keys())\n",
    "\n",
    "rows = len(data)\n",
    "\n",
    "most_populated = max(data, key=operator.itemgetter('AgglomerationPopulation'))\n",
    "\n",
    "high_exposure_count = sum([\n",
    "    most_populated['Industry_Pop_Lden>=75dB'], \n",
    "    most_populated['Railways_Pop_Lden>=75dB'], \n",
    "    most_populated['Road_Pop_Lden>=75dB']\n",
    "])\n",
    "\n",
    "high_exposure_percent = '{0:.2f}%'.format(\n",
    "    (high_exposure_count / most_populated['AgglomerationPopulation']) * 100\n",
    ")\n",
    "\n",
    "# A factual statement, according to this data source.\n",
    "statement = \"\"\"\\\n",
    "The data holds {columns} columns of data for {rows} different \"Agglomerations\". \\\n",
    "The most populated \"Agglomeration\" is \"{place_name}\" with a population of {pop_count}. \\\n",
    "Out of this population, {high_exposure_count} ({high_exposure_percent}) people are exposed to very high levels of noise pollution \\\n",
    "from industry, railway and road sources.\\\n",
    "\"\"\".format(\n",
    "    columns=columns, \n",
    "    rows=rows, \n",
    "    place_name=most_populated['Location/Agglomeration'], \n",
    "    pop_count=most_populated['AgglomerationPopulation'], \n",
    "    high_exposure_count=high_exposure_count,\n",
    "    high_exposure_percent=high_exposure_percent\n",
    ")\n",
    "\n",
    "print(statement)"
   ]
  },
  {
   "cell_type": "markdown",
   "metadata": {},
   "source": [
    "### Preparing a view on the data\n",
    "\n",
    "Looking at the data, it would be interesting to do a simple calculation to order the agglomerations from those with the highest percentage of their population exposed to potentially unhealthy levels of noise pollution, to those with the least percentage."
   ]
  },
  {
   "cell_type": "code",
   "execution_count": 71,
   "metadata": {
    "collapsed": false
   },
   "outputs": [
    {
     "name": "stdout",
     "output_type": "stream",
     "text": [
      "[{'Exposed': 1.2623655913978495,\n",
      "  'Location/Agglomeration': 'Greater London Urban Area'},\n",
      " {'Exposed': 1.25, 'Location/Agglomeration': 'Slough Urban Area'},\n",
      " {'Exposed': 0.6923076923076923,\n",
      "  'Location/Agglomeration': 'Doncaster Urban Area'},\n",
      " {'Exposed': 0.6181818181818182,\n",
      "  'Location/Agglomeration': 'Preston Urban Area'},\n",
      " {'Exposed': 0.4705882352941176, 'Location/Agglomeration': 'Wigan Urban Area'},\n",
      " {'Exposed': 0.42827442827442824,\n",
      "  'Location/Agglomeration': 'Greater Manchester Urban Area'},\n",
      " {'Exposed': 0.39215686274509803, 'Location/Agglomeration': 'Luton/Dunstable'},\n",
      " {'Exposed': 0.3770491803278689,\n",
      "  'Location/Agglomeration': 'Bristol Urban Area'},\n",
      " {'Exposed': 0.34615384615384615, 'Location/Agglomeration': 'Plymouth'}]\n"
     ]
    }
   ],
   "source": [
    "for row in data:\n",
    "    exposed_count = sum([\n",
    "        row['Industry_Pop_Lden>=75dB'], \n",
    "        row['Railways_Pop_Lden>=75dB'], \n",
    "        row['Road_Pop_Lden>=75dB']\n",
    "    ])\n",
    "    row['Exposed'] = (exposed_count / row['AgglomerationPopulation']) * 100\n",
    "\n",
    "data = sorted(data, key=operator.itemgetter('Exposed'), reverse=True)\n",
    "\n",
    "view = []\n",
    "\n",
    "for row in data:\n",
    "    simplified = {}\n",
    "    for key, value in row.items():\n",
    "        if key in ('Exposed', 'Location/Agglomeration'):\n",
    "            simplified[key] = value\n",
    "    view.append(simplified)\n",
    "\n",
    "            \n",
    "print(view[:9])"
   ]
  },
  {
   "cell_type": "markdown",
   "metadata": {},
   "source": [
    "# Visualise\n",
    "\n",
    "Let's show the percentage of each population exposed to unsafe noise levels on a bar chart."
   ]
  },
  {
   "cell_type": "code",
   "execution_count": 72,
   "metadata": {
    "collapsed": false
   },
   "outputs": [],
   "source": [
    "chart = Bar(view, 'Location/Agglomeration', values='Exposed', legend=False,\n",
    "            title='Percentage of population exposed to high noise pollution',\n",
    "            plot_width=1000)\n",
    "\n",
    "show(chart)"
   ]
  },
  {
   "cell_type": "markdown",
   "metadata": {},
   "source": [
    "## Conclusions\n",
    "\n",
    "The above is a very simple exploration into a small dataset.\n",
    "\n",
    "A more thorough inquiry would source additional data on both noise pollution and contextual information that illustrate and place the data. Some examples of such contextual datasets could be:\n",
    "\n",
    "- socioeconomic indicators related to each agglomeration\n",
    "- the relationship between jobs and industry in a particular agglomeration\n",
    "- the relationship between noise pollution and housing pricing within each agglomeration, or, across agglomerations\n",
    "\n",
    "We could also use different chart types, customise our charts further, and so on.\n",
    "\n",
    "Here, we just want to consider what we've learned, and identify some directions that a more thorough inquiry could follow.\n",
    "\n",
    "- It seems that a number of people live exposed to much higher than acceptable noise pollution, based on the basic facts we initially established.\n",
    "- Are there correlation between socioeconomic factors and exposure to noise pollution?\n",
    "\n",
    "- Can we track possible health implications (deperonslised information from hospitals, for example)?\n",
    "- Are these figures correct, or is there a more complete dataset available?\n",
    "- With additional data, is there a story here worth telling as a small app, a blog post, etc.?"
   ]
  },
  {
   "cell_type": "code",
   "execution_count": null,
   "metadata": {
    "collapsed": true
   },
   "outputs": [],
   "source": []
  }
 ],
 "metadata": {
  "kernelspec": {
   "display_name": "Python 3",
   "language": "python",
   "name": "python3"
  },
  "language_info": {
   "codemirror_mode": {
    "name": "ipython",
    "version": 3
   },
   "file_extension": ".py",
   "mimetype": "text/x-python",
   "name": "python",
   "nbconvert_exporter": "python",
   "pygments_lexer": "ipython3",
   "version": "3.5.2"
  }
 },
 "nbformat": 4,
 "nbformat_minor": 1
}
