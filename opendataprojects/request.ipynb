{
 "cells": [
  {
   "cell_type": "markdown",
   "metadata": {},
   "source": [
    "# Requesting data\n",
    "\n",
    "- Acquire data from some *external* source\n",
    "- Read that data into a Python data structure\n",
    "- Print a sample of the data"
   ]
  },
  {
   "cell_type": "markdown",
   "metadata": {},
   "source": [
    "## Tools\n",
    "\n",
    "- [Requests](http://docs.python-requests.org/en/master/) is a small library for HTTP requests\n",
    "- [urllib](https://docs.python.org/3/library/urllib.html) is a set of lower-level tools in the Python standard library for HTTP requests and more\n",
    "- [A list of HTTP status codes](https://en.wikipedia.org/wiki/List_of_HTTP_status_codes)\n",
    "\n",
    "Use **Requests** for simplicity and ease of use."
   ]
  },
  {
   "cell_type": "markdown",
   "metadata": {},
   "source": [
    "## Examples\n",
    "\n",
    "We'll walk through three very simple examples.\n",
    "\n",
    "- request a CSV file and read a sample of its data\n",
    "- request an API endpoint and read a sample of its data\n",
    "- scrape a web page and read a sample of its data"
   ]
  },
  {
   "cell_type": "code",
   "execution_count": 1,
   "metadata": {
    "collapsed": true
   },
   "outputs": [],
   "source": [
    "# just for presentation in notebooks\n",
    "from pprint import pprint as print"
   ]
  },
  {
   "cell_type": "markdown",
   "metadata": {
    "collapsed": true,
    "slideshow": {
     "slide_type": "slide"
    }
   },
   "source": [
    "### A CSV example\n",
    "\n",
    "Hospitals in the UK according to NHS Choices."
   ]
  },
  {
   "cell_type": "code",
   "execution_count": 2,
   "metadata": {
    "collapsed": false
   },
   "outputs": [
    {
     "name": "stdout",
     "output_type": "stream",
     "text": [
      "[{'Address1': 'Swinemoor Lane',\n",
      "  'Address2': '',\n",
      "  'Address3': '',\n",
      "  'City': 'Beverley',\n",
      "  'County': 'East Yorkshire',\n",
      "  'Email': 'newhospital@nhs.net',\n",
      "  'Fax': '',\n",
      "  'IsPimsManaged': 'True',\n",
      "  'Latitude': '53.853134155273437',\n",
      "  'Longitude': '-0.41147232055664063',\n",
      "  'OrganisationCode': 'RV9HE',\n",
      "  'OrganisationID': '1421',\n",
      "  'OrganisationName': 'East Riding Community Hospital',\n",
      "  'OrganisationStatus': 'Visible',\n",
      "  'OrganisationType': 'Hospital',\n",
      "  'ParentName': 'Humber NHS Foundation Trust',\n",
      "  'ParentODSCode': 'RV9',\n",
      "  'Phone': '01482 886600',\n",
      "  'Postcode': 'HU17 0FA',\n",
      "  'Sector': 'NHS Sector',\n",
      "  'SubType': 'Mental Health Hospital',\n",
      "  'Website': 'http://www.humber.nhs.uk'},\n",
      " {'Address1': 'Zachary Merton Community Hospital',\n",
      "  'Address2': 'Glenville Road',\n",
      "  'Address3': 'Rustington',\n",
      "  'City': 'Littlehampton',\n",
      "  'County': 'Sussex',\n",
      "  'Email': '',\n",
      "  'Fax': '',\n",
      "  'IsPimsManaged': 'True',\n",
      "  'Latitude': '50.807880401611328',\n",
      "  'Longitude': '-0.50063163042068481',\n",
      "  'OrganisationCode': '5P603',\n",
      "  'OrganisationID': '1611',\n",
      "  'OrganisationName': 'Zachary Merton Community Hospital ',\n",
      "  'OrganisationStatus': 'Visible',\n",
      "  'OrganisationType': 'Hospital',\n",
      "  'ParentName': 'Sussex Community NHS Trust',\n",
      "  'ParentODSCode': 'RDR',\n",
      "  'Phone': '01903 858100',\n",
      "  'Postcode': 'BN16 2EB',\n",
      "  'Sector': 'NHS Sector',\n",
      "  'SubType': 'Hospital',\n",
      "  'Website': 'http://www.sussexcommunity.nhs.uk/services'}]\n"
     ]
    }
   ],
   "source": [
    "import requests\n",
    "import csv\n",
    "\n",
    "\n",
    "csv_source = 'http://data.gov.uk/data/resource/nhschoices/Hospital.csv'\n",
    "\n",
    "csv_delimiter = '\\t'\n",
    "\n",
    "response = requests.get(csv_source)\n",
    "\n",
    "raw = response.text.splitlines()\n",
    "\n",
    "reader = csv.DictReader(raw, delimiter=csv_delimiter)\n",
    "\n",
    "data = []\n",
    "\n",
    "for row in reader:\n",
    "    data.append(row)\n",
    "\n",
    "print(data[:2])"
   ]
  },
  {
   "cell_type": "markdown",
   "metadata": {},
   "source": [
    "### A JSON example\n",
    "\n",
    "What are today's exchange rates against the euro?"
   ]
  },
  {
   "cell_type": "code",
   "execution_count": 3,
   "metadata": {
    "collapsed": false
   },
   "outputs": [
    {
     "name": "stdout",
     "output_type": "stream",
     "text": [
      "{'base': 'EUR',\n",
      " 'date': '2016-09-16',\n",
      " 'rates': {'AUD': 1.4949,\n",
      "           'BGN': 1.9558,\n",
      "           'BRL': 3.6993,\n",
      "           'CAD': 1.4817,\n",
      "           'CHF': 1.0941,\n",
      "           'CNY': 7.4915,\n",
      "           'CZK': 27.024,\n",
      "           'DKK': 7.4471,\n",
      "           'GBP': 0.85203,\n",
      "           'HKD': 8.7099,\n",
      "           'HRK': 7.5115,\n",
      "           'HUF': 309.14,\n",
      "           'IDR': 14770.61,\n",
      "           'ILS': 4.2245,\n",
      "           'INR': 75.237,\n",
      "           'JPY': 114.35,\n",
      "           'KRW': 1263.64,\n",
      "           'MXN': 21.7665,\n",
      "           'MYR': 4.6441,\n",
      "           'NOK': 9.2625,\n",
      "           'NZD': 1.5367,\n",
      "           'PHP': 53.741,\n",
      "           'PLN': 4.3167,\n",
      "           'RON': 4.4501,\n",
      "           'RUB': 72.8966,\n",
      "           'SEK': 9.557,\n",
      "           'SGD': 1.5318,\n",
      "           'THB': 39.19,\n",
      "           'TRY': 3.3384,\n",
      "           'USD': 1.1226,\n",
      "           'ZAR': 15.868}}\n"
     ]
    }
   ],
   "source": [
    "import requests\n",
    "\n",
    "\n",
    "json_source = 'https://api.fixer.io/latest'\n",
    "\n",
    "response = requests.get(json_source)\n",
    "\n",
    "data = response.json()\n",
    "\n",
    "print(data)"
   ]
  },
  {
   "cell_type": "markdown",
   "metadata": {},
   "source": [
    "### A scraping example\n",
    "\n",
    "When is the next bank holiday in the UK?"
   ]
  },
  {
   "cell_type": "code",
   "execution_count": 4,
   "metadata": {
    "collapsed": false
   },
   "outputs": [
    {
     "name": "stdout",
     "output_type": "stream",
     "text": [
      "'26 December is the next bank holiday in the UK.'\n"
     ]
    }
   ],
   "source": [
    "import requests\n",
    "from pyquery import PyQuery\n",
    "\n",
    "\n",
    "html_source = 'https://www.gov.uk/bank-holidays'\n",
    "\n",
    "response = requests.get(html_source)\n",
    "\n",
    "document = PyQuery(response.text)\n",
    "\n",
    "answer = document('.calendar:first tbody tr:first td:first').text()\n",
    "\n",
    "print('{} is the next bank holiday in the UK.'.format(answer))"
   ]
  },
  {
   "cell_type": "markdown",
   "metadata": {},
   "source": [
    "## Other tools\n",
    "\n",
    "- [Read excel files](http://www.python-excel.org)\n",
    "- [Read ods files](https://github.com/pyexcel/pyexcel-ods3)\n",
    "- [A powerful scraping framework](https://scrapy.org)\n",
    "- [PyQuery API](https://pythonhosted.org/pyquery/api.html), and [JQuery](https://api.jquery.com/category/selectors/), on which it is modeled\n",
    "- [Read and write multiple tabular data file formats via a unified API](https://github.com/frictionlessdata/tabulator-py)"
   ]
  },
  {
   "cell_type": "code",
   "execution_count": null,
   "metadata": {
    "collapsed": true
   },
   "outputs": [],
   "source": []
  }
 ],
 "metadata": {
  "kernelspec": {
   "display_name": "Python 3",
   "language": "python",
   "name": "python3"
  },
  "language_info": {
   "codemirror_mode": {
    "name": "ipython",
    "version": 3
   },
   "file_extension": ".py",
   "mimetype": "text/x-python",
   "name": "python",
   "nbconvert_exporter": "python",
   "pygments_lexer": "ipython3",
   "version": "3.5.2"
  }
 },
 "nbformat": 4,
 "nbformat_minor": 0
}
